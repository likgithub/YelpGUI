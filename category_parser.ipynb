{
 "cells": [
  {
   "cell_type": "code",
   "execution_count": 59,
   "metadata": {},
   "outputs": [],
   "source": [
    "import pandas as pd\n",
    "import numpy as np\n",
    "\n",
    "\n",
    "\"\"\"\n",
    "Establish and verify category count\n",
    "May be used as the basis of consolidating categories to speed up pSQL RegEx queries\n",
    "\"\"\""
   ]
  },
  {
   "cell_type": "code",
   "execution_count": 25,
   "metadata": {},
   "outputs": [
    {
     "name": "stderr",
     "output_type": "stream",
     "text": [
      "b'Skipping line 929: expected 17 fields, saw 18\\nSkipping line 6853: expected 17 fields, saw 22\\nSkipping line 6996: expected 17 fields, saw 19\\nSkipping line 7486: expected 17 fields, saw 18\\nSkipping line 8377: expected 17 fields, saw 20\\nSkipping line 11031: expected 17 fields, saw 18\\nSkipping line 16002: expected 17 fields, saw 18\\nSkipping line 16680: expected 17 fields, saw 19\\nSkipping line 16780: expected 17 fields, saw 18\\nSkipping line 17021: expected 17 fields, saw 18\\nSkipping line 19574: expected 17 fields, saw 21\\nSkipping line 20694: expected 17 fields, saw 39\\nSkipping line 21472: expected 17 fields, saw 18\\nSkipping line 21983: expected 17 fields, saw 18\\nSkipping line 23449: expected 17 fields, saw 25\\nSkipping line 26621: expected 17 fields, saw 18\\nSkipping line 30188: expected 17 fields, saw 35\\nSkipping line 32898: expected 17 fields, saw 19\\nSkipping line 38771: expected 17 fields, saw 18\\nSkipping line 40104: expected 17 fields, saw 24\\nSkipping line 40854: expected 17 fields, saw 18\\nSkipping line 41788: expected 17 fields, saw 19\\nSkipping line 42786: expected 17 fields, saw 22\\nSkipping line 43745: expected 17 fields, saw 20\\nSkipping line 46051: expected 17 fields, saw 18\\nSkipping line 49698: expected 17 fields, saw 19\\nSkipping line 49765: expected 17 fields, saw 21\\nSkipping line 49879: expected 17 fields, saw 18\\nSkipping line 50429: expected 17 fields, saw 21\\nSkipping line 53285: expected 17 fields, saw 18\\nSkipping line 53518: expected 17 fields, saw 19\\nSkipping line 56382: expected 17 fields, saw 20\\nSkipping line 61233: expected 17 fields, saw 22\\nSkipping line 61292: expected 17 fields, saw 18\\nSkipping line 61666: expected 17 fields, saw 18\\nSkipping line 63317: expected 17 fields, saw 19\\nSkipping line 63551: expected 17 fields, saw 19\\nSkipping line 63672: expected 17 fields, saw 19\\nSkipping line 63734: expected 17 fields, saw 24\\nSkipping line 63854: expected 17 fields, saw 18\\nSkipping line 67989: expected 17 fields, saw 22\\nSkipping line 69256: expected 17 fields, saw 18\\nSkipping line 72161: expected 17 fields, saw 19\\nSkipping line 72372: expected 17 fields, saw 19\\nSkipping line 73242: expected 17 fields, saw 20\\nSkipping line 73439: expected 17 fields, saw 20\\nSkipping line 75227: expected 17 fields, saw 18\\nSkipping line 75883: expected 17 fields, saw 18\\nSkipping line 76520: expected 17 fields, saw 23\\nSkipping line 78720: expected 17 fields, saw 18\\nSkipping line 81015: expected 17 fields, saw 18\\nSkipping line 83215: expected 17 fields, saw 20\\nSkipping line 83218: expected 17 fields, saw 19\\nSkipping line 83588: expected 17 fields, saw 22\\nSkipping line 83884: expected 17 fields, saw 18\\nSkipping line 85995: expected 17 fields, saw 19\\nSkipping line 87489: expected 17 fields, saw 20\\nSkipping line 88369: expected 17 fields, saw 20\\nSkipping line 88566: expected 17 fields, saw 19\\nSkipping line 88615: expected 17 fields, saw 27\\nSkipping line 89216: expected 17 fields, saw 18\\nSkipping line 89990: expected 17 fields, saw 19\\nSkipping line 93228: expected 17 fields, saw 20\\nSkipping line 93409: expected 17 fields, saw 22\\nSkipping line 96598: expected 17 fields, saw 20\\nSkipping line 99494: expected 17 fields, saw 18\\nSkipping line 101953: expected 17 fields, saw 18\\nSkipping line 102501: expected 17 fields, saw 18\\nSkipping line 103210: expected 17 fields, saw 18\\nSkipping line 105260: expected 17 fields, saw 20\\nSkipping line 105595: expected 17 fields, saw 19\\nSkipping line 107402: expected 17 fields, saw 18\\nSkipping line 107420: expected 17 fields, saw 18\\nSkipping line 109283: expected 17 fields, saw 18\\nSkipping line 110695: expected 17 fields, saw 19\\nSkipping line 110917: expected 17 fields, saw 21\\nSkipping line 112617: expected 17 fields, saw 18\\nSkipping line 113527: expected 17 fields, saw 19\\nSkipping line 114582: expected 17 fields, saw 22\\nSkipping line 114649: expected 17 fields, saw 20\\nSkipping line 115838: expected 17 fields, saw 18\\nSkipping line 118189: expected 17 fields, saw 18\\nSkipping line 118270: expected 17 fields, saw 18\\nSkipping line 124662: expected 17 fields, saw 20\\nSkipping line 127639: expected 17 fields, saw 21\\nSkipping line 130530: expected 17 fields, saw 18\\nSkipping line 132068: expected 17 fields, saw 20\\nSkipping line 132197: expected 17 fields, saw 19\\nSkipping line 133313: expected 17 fields, saw 18\\nSkipping line 134673: expected 17 fields, saw 20\\nSkipping line 136751: expected 17 fields, saw 21\\nSkipping line 138394: expected 17 fields, saw 19\\nSkipping line 140754: expected 17 fields, saw 27\\nSkipping line 143477: expected 17 fields, saw 19\\nSkipping line 143672: expected 17 fields, saw 18\\nSkipping line 144236: expected 17 fields, saw 19\\nSkipping line 144359: expected 17 fields, saw 19\\nSkipping line 146823: expected 17 fields, saw 19\\nSkipping line 147641: expected 17 fields, saw 19\\nSkipping line 148999: expected 17 fields, saw 19\\nSkipping line 153397: expected 17 fields, saw 18\\nSkipping line 153826: expected 17 fields, saw 18\\nSkipping line 157247: expected 17 fields, saw 18\\nSkipping line 159355: expected 17 fields, saw 21\\nSkipping line 159631: expected 17 fields, saw 18\\nSkipping line 161102: expected 17 fields, saw 21\\nSkipping line 165428: expected 17 fields, saw 19\\nSkipping line 165655: expected 17 fields, saw 18\\nSkipping line 170332: expected 17 fields, saw 21\\nSkipping line 171178: expected 17 fields, saw 20\\nSkipping line 171926: expected 17 fields, saw 18\\nSkipping line 172608: expected 17 fields, saw 18\\nSkipping line 172914: expected 17 fields, saw 22\\nSkipping line 180072: expected 17 fields, saw 19\\nSkipping line 181779: expected 17 fields, saw 20\\nSkipping line 185290: expected 17 fields, saw 21\\nSkipping line 187676: expected 17 fields, saw 18\\nSkipping line 188085: expected 17 fields, saw 19\\nSkipping line 189180: expected 17 fields, saw 19\\nSkipping line 190525: expected 17 fields, saw 18\\nSkipping line 191239: expected 17 fields, saw 18\\nSkipping line 191839: expected 17 fields, saw 18\\nSkipping line 192882: expected 17 fields, saw 26\\nSkipping line 193683: expected 17 fields, saw 20\\nSkipping line 194966: expected 17 fields, saw 18\\nSkipping line 196110: expected 17 fields, saw 20\\nSkipping line 198151: expected 17 fields, saw 20\\nSkipping line 198416: expected 17 fields, saw 20\\nSkipping line 198507: expected 17 fields, saw 20\\nSkipping line 199093: expected 17 fields, saw 20\\nSkipping line 200208: expected 17 fields, saw 21\\nSkipping line 201703: expected 17 fields, saw 18\\nSkipping line 201883: expected 17 fields, saw 18\\nSkipping line 202678: expected 17 fields, saw 18\\nSkipping line 202893: expected 17 fields, saw 21\\nSkipping line 204482: expected 17 fields, saw 20\\nSkipping line 205790: expected 17 fields, saw 19\\nSkipping line 205836: expected 17 fields, saw 20\\nSkipping line 207801: expected 17 fields, saw 18\\n'\n"
     ]
    },
    {
     "data": {
      "text/plain": [
       "'...'"
      ]
     },
     "execution_count": 25,
     "metadata": {},
     "output_type": "execute_result"
    }
   ],
   "source": [
    "df = pd.DataFrame(pd.read_csv('bus_cat_col.csv', error_bad_lines=False, low_memory=False, warning))\n",
    "'...'"
   ]
  },
  {
   "cell_type": "raw",
   "metadata": {},
   "source": [
    "df.shape"
   ]
  },
  {
   "cell_type": "code",
   "execution_count": 87,
   "metadata": {
    "scrolled": false
   },
   "outputs": [],
   "source": [
    "j = 0\n",
    "\n",
    "cat_list = []\n",
    "\n",
    "for i in df.itertuples():\n",
    "    if j == 30000:\n",
    "        break\n",
    "    \n",
    "\n",
    "    for k in i[3:-1]:\n",
    "        \n",
    "        current = str(k).strip()\n",
    "        if current not in cat_list and current != \"nan\":\n",
    "            cat_list.append(current)\n",
    "\n",
    "    \n",
    "    j += 1"
   ]
  },
  {
   "cell_type": "code",
   "execution_count": 88,
   "metadata": {},
   "outputs": [
    {
     "data": {
      "text/plain": [
       "1206"
      ]
     },
     "execution_count": 88,
     "metadata": {},
     "output_type": "execute_result"
    }
   ],
   "source": [
    "len(cat_list)"
   ]
  },
  {
   "cell_type": "code",
   "execution_count": 89,
   "metadata": {},
   "outputs": [
    {
     "name": "stdout",
     "output_type": "stream",
     "text": [
      "Active Life\n",
      "Gun/Rifle Ranges\n",
      "Guns & Ammo\n",
      "Shopping\n",
      "Health & Medical\n",
      "Fitness & Instruction\n",
      "Yoga\n",
      "Pilates\n",
      "Pets\n",
      "Pet Services\n",
      "Pet Groomers\n",
      "Hardware Stores\n",
      "Home Services\n",
      "Building Supplies\n",
      "Home & Garden\n",
      "Plumbing\n",
      "Electricians\n",
      "Handyman\n",
      "Contractors\n",
      "Auto Repair\n",
      "Automotive\n",
      "Oil Change Stations\n",
      "Transmission Repair\n",
      "Dry Cleaning & Laundry\n",
      "Local Services\n",
      "Laundry Services\n",
      "Tires\n",
      "Ethnic Food\n",
      "Food Trucks\n",
      "Specialty Food\n"
     ]
    }
   ],
   "source": [
    "for i in range(30):\n",
    "    print(cat_list[i])"
   ]
  },
  {
   "cell_type": "code",
   "execution_count": null,
   "metadata": {},
   "outputs": [],
   "source": []
  }
 ],
 "metadata": {
  "kernelspec": {
   "display_name": "Python 3",
   "language": "python",
   "name": "python3"
  },
  "language_info": {
   "codemirror_mode": {
    "name": "ipython",
    "version": 3
   },
   "file_extension": ".py",
   "mimetype": "text/x-python",
   "name": "python",
   "nbconvert_exporter": "python",
   "pygments_lexer": "ipython3",
   "version": "3.8.5"
  }
 },
 "nbformat": 4,
 "nbformat_minor": 4
}
