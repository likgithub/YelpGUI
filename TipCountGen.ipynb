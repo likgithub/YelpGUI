{
 "cells": [
  {
   "cell_type": "code",
   "execution_count": 2,
   "metadata": {},
   "outputs": [],
   "source": [
    "import pandas as pd\n",
    "\n",
    "dft = pd.DataFrame(pd.read_csv('user/user_tip_general.csv', low_memory=False))\n",
    "dfb = pd.DataFrame(pd.read_csv('business/business_location.csv', low_memory=False))"
   ]
  },
  {
   "cell_type": "code",
   "execution_count": 20,
   "metadata": {},
   "outputs": [
    {
     "name": "stderr",
     "output_type": "stream",
     "text": [
      "<ipython-input-20-6a86d32612c0>:2: SettingWithCopyWarning: \n",
      "A value is trying to be set on a copy of a slice from a DataFrame.\n",
      "Try using .loc[row_indexer,col_indexer] = value instead\n",
      "\n",
      "See the caveats in the documentation: https://pandas.pydata.org/pandas-docs/stable/user_guide/indexing.html#returning-a-view-versus-a-copy\n",
      "  dftc['tip_count'] = 0\n"
     ]
    }
   ],
   "source": [
    "dftc = dfb[['business_id', 'name', 'city', 'is_franchise']]\n",
    "dftc['tip_count'] = 0"
   ]
  },
  {
   "cell_type": "code",
   "execution_count": 21,
   "metadata": {},
   "outputs": [],
   "source": [
    "tips = [t for t in dft.business_id]"
   ]
  },
  {
   "cell_type": "code",
   "execution_count": 22,
   "metadata": {},
   "outputs": [],
   "source": [
    "row_num = 0\n",
    "for row in dftc.itertuples():\n",
    "    dftc.at[row_num, 'tip_count'] = tips.count(row.business_id)\n",
    "    \n",
    "    row_num += 1"
   ]
  },
  {
   "cell_type": "code",
   "execution_count": 26,
   "metadata": {},
   "outputs": [
    {
     "data": {
      "text/html": [
       "<div>\n",
       "<style scoped>\n",
       "    .dataframe tbody tr th:only-of-type {\n",
       "        vertical-align: middle;\n",
       "    }\n",
       "\n",
       "    .dataframe tbody tr th {\n",
       "        vertical-align: top;\n",
       "    }\n",
       "\n",
       "    .dataframe thead th {\n",
       "        text-align: right;\n",
       "    }\n",
       "</style>\n",
       "<table border=\"1\" class=\"dataframe\">\n",
       "  <thead>\n",
       "    <tr style=\"text-align: right;\">\n",
       "      <th></th>\n",
       "      <th>business_id</th>\n",
       "      <th>name</th>\n",
       "      <th>city</th>\n",
       "      <th>is_franchise</th>\n",
       "      <th>tip_count</th>\n",
       "    </tr>\n",
       "  </thead>\n",
       "  <tbody>\n",
       "    <tr>\n",
       "      <th>401</th>\n",
       "      <td>NFm869_w6cvVaWaNpAzjeA</td>\n",
       "      <td>Soul Gastrolounge</td>\n",
       "      <td>Charlotte</td>\n",
       "      <td>0</td>\n",
       "      <td>2</td>\n",
       "    </tr>\n",
       "    <tr>\n",
       "      <th>492</th>\n",
       "      <td>Ra5fI9BEAuWWaLJSfkiCiQ</td>\n",
       "      <td>White Oaks</td>\n",
       "      <td>Westlake</td>\n",
       "      <td>0</td>\n",
       "      <td>2</td>\n",
       "    </tr>\n",
       "    <tr>\n",
       "      <th>930</th>\n",
       "      <td>NtfAbj7MSj5IOhAsGM0-5w</td>\n",
       "      <td>Einstein Bros Bagels</td>\n",
       "      <td>Scottsdale</td>\n",
       "      <td>1</td>\n",
       "      <td>2</td>\n",
       "    </tr>\n",
       "    <tr>\n",
       "      <th>1030</th>\n",
       "      <td>b1m_PK-ggGR3CmBjdIyqkQ</td>\n",
       "      <td>Wrights at The Arizona Biltmore</td>\n",
       "      <td>Phoenix</td>\n",
       "      <td>0</td>\n",
       "      <td>2</td>\n",
       "    </tr>\n",
       "    <tr>\n",
       "      <th>1106</th>\n",
       "      <td>62HlThvB9Rm2QFu_OdXe7w</td>\n",
       "      <td>Rice Paper</td>\n",
       "      <td>Phoenix</td>\n",
       "      <td>0</td>\n",
       "      <td>3</td>\n",
       "    </tr>\n",
       "    <tr>\n",
       "      <th>...</th>\n",
       "      <td>...</td>\n",
       "      <td>...</td>\n",
       "      <td>...</td>\n",
       "      <td>...</td>\n",
       "      <td>...</td>\n",
       "    </tr>\n",
       "    <tr>\n",
       "      <th>205935</th>\n",
       "      <td>vxadNrpTY7OHNmWsrEpNnA</td>\n",
       "      <td>Landmark Diner Restaurant</td>\n",
       "      <td>Charlotte</td>\n",
       "      <td>0</td>\n",
       "      <td>2</td>\n",
       "    </tr>\n",
       "    <tr>\n",
       "      <th>206418</th>\n",
       "      <td>VLDFjeqpUgWhnVuB_8GuEg</td>\n",
       "      <td>True Food Kitchen</td>\n",
       "      <td>Scottsdale</td>\n",
       "      <td>1</td>\n",
       "      <td>2</td>\n",
       "    </tr>\n",
       "    <tr>\n",
       "      <th>206420</th>\n",
       "      <td>OK_djnmJWmK4G3NMAjGGjg</td>\n",
       "      <td>Boreal Gelato Café</td>\n",
       "      <td>Toronto</td>\n",
       "      <td>0</td>\n",
       "      <td>2</td>\n",
       "    </tr>\n",
       "    <tr>\n",
       "      <th>206685</th>\n",
       "      <td>Z0YOHYA6YtW131xULbnMzQ</td>\n",
       "      <td>Market Street Cafe</td>\n",
       "      <td>Las Vegas</td>\n",
       "      <td>0</td>\n",
       "      <td>2</td>\n",
       "    </tr>\n",
       "    <tr>\n",
       "      <th>207045</th>\n",
       "      <td>RVQE2Z2uky4c0-njFQO66g</td>\n",
       "      <td>Midwood Smokehouse</td>\n",
       "      <td>Charlotte</td>\n",
       "      <td>1</td>\n",
       "      <td>3</td>\n",
       "    </tr>\n",
       "  </tbody>\n",
       "</table>\n",
       "<p>481 rows × 5 columns</p>\n",
       "</div>"
      ],
      "text/plain": [
       "                   business_id                             name        city  \\\n",
       "401     NFm869_w6cvVaWaNpAzjeA                Soul Gastrolounge   Charlotte   \n",
       "492     Ra5fI9BEAuWWaLJSfkiCiQ                       White Oaks    Westlake   \n",
       "930     NtfAbj7MSj5IOhAsGM0-5w             Einstein Bros Bagels  Scottsdale   \n",
       "1030    b1m_PK-ggGR3CmBjdIyqkQ  Wrights at The Arizona Biltmore     Phoenix   \n",
       "1106    62HlThvB9Rm2QFu_OdXe7w                       Rice Paper     Phoenix   \n",
       "...                        ...                              ...         ...   \n",
       "205935  vxadNrpTY7OHNmWsrEpNnA        Landmark Diner Restaurant   Charlotte   \n",
       "206418  VLDFjeqpUgWhnVuB_8GuEg                True Food Kitchen  Scottsdale   \n",
       "206420  OK_djnmJWmK4G3NMAjGGjg               Boreal Gelato Café     Toronto   \n",
       "206685  Z0YOHYA6YtW131xULbnMzQ               Market Street Cafe   Las Vegas   \n",
       "207045  RVQE2Z2uky4c0-njFQO66g               Midwood Smokehouse   Charlotte   \n",
       "\n",
       "        is_franchise  tip_count  \n",
       "401                0          2  \n",
       "492                0          2  \n",
       "930                1          2  \n",
       "1030               0          2  \n",
       "1106               0          3  \n",
       "...              ...        ...  \n",
       "205935             0          2  \n",
       "206418             1          2  \n",
       "206420             0          2  \n",
       "206685             0          2  \n",
       "207045             1          3  \n",
       "\n",
       "[481 rows x 5 columns]"
      ]
     },
     "execution_count": 26,
     "metadata": {},
     "output_type": "execute_result"
    }
   ],
   "source": [
    "dftc[dftc.tip_count > 1]"
   ]
  },
  {
   "cell_type": "code",
   "execution_count": 24,
   "metadata": {},
   "outputs": [],
   "source": [
    "dftc.to_csv('business/business_tip_count.csv', index=False, encoding='utf-8')"
   ]
  },
  {
   "cell_type": "code",
   "execution_count": null,
   "metadata": {},
   "outputs": [],
   "source": []
  },
  {
   "cell_type": "code",
   "execution_count": null,
   "metadata": {},
   "outputs": [],
   "source": []
  }
 ],
 "metadata": {
  "kernelspec": {
   "display_name": "Python 3",
   "language": "python",
   "name": "python3"
  },
  "language_info": {
   "codemirror_mode": {
    "name": "ipython",
    "version": 3
   },
   "file_extension": ".py",
   "mimetype": "text/x-python",
   "name": "python",
   "nbconvert_exporter": "python",
   "pygments_lexer": "ipython3",
   "version": "3.8.5"
  }
 },
 "nbformat": 4,
 "nbformat_minor": 4
}
